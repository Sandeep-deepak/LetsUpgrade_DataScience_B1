{
  "nbformat": 4,
  "nbformat_minor": 0,
  "metadata": {
    "colab": {
      "name": "Day_3_Assignment.ipynb",
      "provenance": []
    },
    "kernelspec": {
      "name": "python3",
      "display_name": "Python 3"
    }
  },
  "cells": [
    {
      "cell_type": "markdown",
      "metadata": {
        "id": "-Ci4D_7deWWW"
      },
      "source": [
        "# ***Question 1:***\n",
        "Create a numpy array starting from 2 till 50 with a stepsize of 3. \n",
        "\n"
      ]
    },
    {
      "cell_type": "code",
      "metadata": {
        "id": "IFYkh86mnlmE",
        "outputId": "2e25d14b-6a1b-41dd-c861-e80f24d495ce",
        "colab": {
          "base_uri": "https://localhost:8080/"
        }
      },
      "source": [
        "import numpy as np\n",
        "arr = np.arange(2,51,3)\n",
        "print(arr)"
      ],
      "execution_count": 145,
      "outputs": [
        {
          "output_type": "stream",
          "text": [
            "[ 2  5  8 11 14 17 20 23 26 29 32 35 38 41 44 47 50]\n"
          ],
          "name": "stdout"
        }
      ]
    },
    {
      "cell_type": "markdown",
      "metadata": {
        "id": "pnRLN4OAecqR"
      },
      "source": [
        "# ***Questions 2:***\n",
        "Accept two lists of 5 elements each from the user.  \n",
        "Convert them to numpy arrays. Concatenate these arrays and print it. Also sort these arrays and print it. "
      ]
    },
    {
      "cell_type": "code",
      "metadata": {
        "id": "kC0lgvEjQKT8",
        "outputId": "4a827cd0-b6b3-402a-9a58-a4f4e921ba07",
        "colab": {
          "base_uri": "https://localhost:8080/"
        }
      },
      "source": [
        "list_1 = []\n",
        "list_2 = []\n",
        "\n",
        "for i in range(5):\n",
        "  lst_1 = int(input())\n",
        "  list_1.append(lst_1)\n",
        "print(\"list_1: \",list_1)\n",
        "\n",
        "for j in range(5):\n",
        "  lst_2 = int(input())\n",
        "  list_2.append(lst_2)\n",
        "print(\"list_2: \",list_2)\n",
        "\n",
        "# Converting List to Array\n",
        "arr_list1 = np.array(list_1)\n",
        "arr_list2 = np.array(list_2)\n",
        "print(\"Array Of list_1: \",arr_list1)\n",
        "print(\"Array Of list_2: \",arr_list2)\n",
        "\n",
        "# Concatenation of Arrays\n",
        "arr_concat = np.concatenate((arr_list1,arr_list2))\n",
        "print(\"Concatenation of 2 Arrays\", arr_concat)\n",
        "\n",
        "# Sorting of Array\n",
        "arr_sort = np.sort(arr_concat)\n",
        "print(\"Sorted Array: \",arr_sort)"
      ],
      "execution_count": 144,
      "outputs": [
        {
          "output_type": "stream",
          "text": [
            "15\n",
            "36\n",
            "1\n",
            "25\n",
            "85\n",
            "list_1:  [15, 36, 1, 25, 85]\n",
            "18\n",
            "32\n",
            "92\n",
            "86\n",
            "72\n",
            "list_2:  [18, 32, 92, 86, 72]\n",
            "Array Of list_1:  [15 36  1 25 85]\n",
            "Array Of list_2:  [18 32 92 86 72]\n",
            "Concatenation of 2 Arrays [15 36  1 25 85 18 32 92 86 72]\n",
            "Sorted Array:  [ 1 15 18 25 32 36 72 85 86 92]\n"
          ],
          "name": "stdout"
        }
      ]
    },
    {
      "cell_type": "markdown",
      "metadata": {
        "id": "zf7QUfDqehSQ"
      },
      "source": [
        "# ***Questions 3:***\n",
        "Write a code snippet to find the dimensions of a N-Dimensional array(ndarray) and its size. "
      ]
    },
    {
      "cell_type": "code",
      "metadata": {
        "id": "hPMAVmGQh4Em",
        "outputId": "e5181140-b59b-498a-dc44-0516fd1e55c6",
        "colab": {
          "base_uri": "https://localhost:8080/"
        }
      },
      "source": [
        "# An array class in Numpy is called as ndarray\n",
        "\n",
        "arr = np.arange(1,10)\n",
        "print(arr)\n",
        "print(\"No. of dimensions: \", arr.ndim) \n",
        "print(\"Shape of array: \", arr.shape)\n",
        "print(\"Size of array: \", arr.size)\n",
        "print()\n",
        "\n",
        "arr1 = np.arange(1,10).reshape(3,3) # array of 3*3 rows*columns\n",
        "print(arr)\n",
        "# or\n",
        "# arr1 = np.array( [[ 1, 2, 3],\n",
        "#                  [ 4, 5, 6],\n",
        "#                  [ 7, 8, 9]] )\n",
        "\n",
        "print(\"No. of dimensions(axis): \", arr1.ndim) \n",
        "print(\"Shape of array: \", arr1.shape)\n",
        "print(\"Size of array: \", arr1.size)\n",
        "print()\n",
        "\n",
        "arr2 = np.arange(1,13).reshape(2,2,3) # array of 2*1(2*3 , 2*3)\n",
        "print(arr2)\n",
        "# or\n",
        "# arr2 = np.array( [[[ 1, 2, 3],\n",
        "#                  [ 4, 5, 6]],\n",
        "#                  [[ 7, 8, 9],\n",
        "#                  [ 10, 11, 12]]] ) \n",
        "\n",
        "print(\"No. of dimensions(axis): \", arr2.ndim) \n",
        "print(\"Shape of array: \", arr2.shape)\n",
        "print(\"Size of array: \", arr2.size)"
      ],
      "execution_count": 142,
      "outputs": [
        {
          "output_type": "stream",
          "text": [
            "[1 2 3 4 5 6 7 8 9]\n",
            "No. of dimensions:  1\n",
            "Shape of array:  (9,)\n",
            "Size of array:  9\n",
            "\n",
            "[1 2 3 4 5 6 7 8 9]\n",
            "No. of dimensions(axis):  2\n",
            "Shape of array:  (3, 3)\n",
            "Size of array:  9\n",
            "\n",
            "[[[ 1  2  3]\n",
            "  [ 4  5  6]]\n",
            "\n",
            " [[ 7  8  9]\n",
            "  [10 11 12]]]\n",
            "No. of dimensions(axis):  3\n",
            "Shape of array:  (2, 2, 3)\n",
            "Size of array:  12\n"
          ],
          "name": "stdout"
        }
      ]
    },
    {
      "cell_type": "markdown",
      "metadata": {
        "id": "yh9x9jjQekr3"
      },
      "source": [
        "# ***Questions 4:***\n",
        "How to convert a 1D array into a 2D array? Demonstrate with the help of a code snippet   \n",
        "Hint: np.newaxis, np.expand_dims"
      ]
    },
    {
      "cell_type": "code",
      "metadata": {
        "id": "1YKy2ONQnnKL",
        "outputId": "200c81a2-203f-4d7c-ec9e-dbad3ef6caaf",
        "colab": {
          "base_uri": "https://localhost:8080/"
        }
      },
      "source": [
        "# Two different built-in functions to increase the dimension of an array are np.newaxis and np.expand_dims\n",
        "# .newaxis is used to increase the dimension of the existing array by one more dimension\n",
        "\n",
        "# numpy.newaxis object as a parameter at the index location in which you want to add the new axis\n",
        "arr = np.arange(int(input()))\n",
        "print(\"1D array (shape) :\", arr.shape)\n",
        "print(arr)\n",
        "print()\n",
        "\n",
        "two_d_array_row = arr[np.newaxis, :]\n",
        "print(\"2D array for row is :\", two_d_array_row.shape)\n",
        "print(two_d_array_row)\n",
        "print()\n",
        "\n",
        "two_d_array_col = arr[:, np.newaxis]\n",
        "print(\"2D array for column is :\", two_d_array_col.shape)\n",
        "print(two_d_array_col)"
      ],
      "execution_count": 120,
      "outputs": [
        {
          "output_type": "stream",
          "text": [
            "10\n",
            "1D array (shape) : (10,)\n",
            "[0 1 2 3 4 5 6 7 8 9]\n",
            "\n",
            "2D array for row is : (1, 10)\n",
            "[[0 1 2 3 4 5 6 7 8 9]]\n",
            "\n",
            "2D array for column is : (10, 1)\n",
            "[[0]\n",
            " [1]\n",
            " [2]\n",
            " [3]\n",
            " [4]\n",
            " [5]\n",
            " [6]\n",
            " [7]\n",
            " [8]\n",
            " [9]]\n"
          ],
          "name": "stdout"
        }
      ]
    },
    {
      "cell_type": "markdown",
      "metadata": {
        "id": "nYzepbptnqwU"
      },
      "source": [
        "# ***Questions 5:*** \n",
        "Consider two square numpy arrays. Stack them vertically and horizontally.  \n",
        "Hint: Use vstack(), hstack()"
      ]
    },
    {
      "cell_type": "code",
      "metadata": {
        "id": "t--eUhUUI0cv",
        "outputId": "3d89c3be-a26a-4998-d8b4-c22a8ac253a9",
        "colab": {
          "base_uri": "https://localhost:8080/"
        }
      },
      "source": [
        "array_1 = np.square([1, 4, 5, 8, 9, 6, 3, 5, 7])  # square of numpy array\n",
        "array_2 = np.square([4, 5, 8, 6, 9, 7, 4, 5, 6])  # square of numpy array\n",
        "\n",
        "print(\"Horizontally Stacked :\", np.hstack((array_1, array_2)))\n",
        "print()\n",
        "\n",
        "print(\"Vertically Stacked : \", np.vstack((array_1, array_2)))\n"
      ],
      "execution_count": 141,
      "outputs": [
        {
          "output_type": "stream",
          "text": [
            "Horizontally Stacked : [ 1 16 25 64 81 36  9 25 49 16 25 64 36 81 49 16 25 36]\n",
            "\n",
            "Vertically Stacked :  [[ 1 16 25 64 81 36  9 25 49]\n",
            " [16 25 64 36 81 49 16 25 36]]\n"
          ],
          "name": "stdout"
        }
      ]
    },
    {
      "cell_type": "markdown",
      "metadata": {
        "id": "kThLvT4Ln3N_"
      },
      "source": [
        "# ***Questions 6:*** \n",
        "How to get unique items and counts of unique items?"
      ]
    },
    {
      "cell_type": "code",
      "metadata": {
        "id": "I-SfTICon8UA",
        "outputId": "6be68d60-7654-4ac4-9107-27fa4b87bfd9",
        "colab": {
          "base_uri": "https://localhost:8080/"
        }
      },
      "source": [
        "arr = np.array([4, 7, 6, 9, 5, 6, 5, 9, 3])\n",
        "\n",
        "unique, counts = np.unique(arr, return_counts=True)\n",
        "arr = np.asarray((unique, counts)).T\n",
        "print(arr)"
      ],
      "execution_count": 146,
      "outputs": [
        {
          "output_type": "stream",
          "text": [
            "[[3 1]\n",
            " [4 1]\n",
            " [5 2]\n",
            " [6 2]\n",
            " [7 1]\n",
            " [9 2]]\n"
          ],
          "name": "stdout"
        }
      ]
    }
  ]
}