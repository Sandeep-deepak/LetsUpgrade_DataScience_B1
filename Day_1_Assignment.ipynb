{
  "nbformat": 4,
  "nbformat_minor": 0,
  "metadata": {
    "colab": {
      "name": "Day_1_Assignment.ipynb",
      "provenance": []
    },
    "kernelspec": {
      "name": "python3",
      "display_name": "Python 3"
    }
  },
  "cells": [
    {
      "cell_type": "markdown",
      "metadata": {
        "id": "4i-e4WplXXJN"
      },
      "source": [
        "# ***Question 1:***"
      ]
    },
    {
      "cell_type": "code",
      "metadata": {
        "id": "Qvy4_bG3Xtq6",
        "outputId": "bee980d2-c4e8-4fd9-e877-26ce442a9428",
        "colab": {
          "base_uri": "https://localhost:8080/"
        }
      },
      "source": [
        "print(\"B. \"+\"RAINBOW\")"
      ],
      "execution_count": 1,
      "outputs": [
        {
          "output_type": "stream",
          "text": [
            "B. RAINBOW\n"
          ],
          "name": "stdout"
        }
      ]
    },
    {
      "cell_type": "markdown",
      "metadata": {
        "id": "MMrsMDwQX_US"
      },
      "source": [
        "# ***Question 2:***"
      ]
    },
    {
      "cell_type": "code",
      "metadata": {
        "id": "Sl83WGMPYGij",
        "outputId": "60b8d3df-6605-45c8-c14c-fed132268e09",
        "colab": {
          "base_uri": "https://localhost:8080/"
        }
      },
      "source": [
        "print(\"LETS UPGRADE\")"
      ],
      "execution_count": 2,
      "outputs": [
        {
          "output_type": "stream",
          "text": [
            "LETS UPGRADE\n"
          ],
          "name": "stdout"
        }
      ]
    },
    {
      "cell_type": "markdown",
      "metadata": {
        "id": "Im6r8LwmYOS0"
      },
      "source": [
        "# ***Question 3:***\n",
        "\n"
      ]
    },
    {
      "cell_type": "code",
      "metadata": {
        "id": "cH_SjxMYYUxF",
        "outputId": "dff7a0d5-2520-4ced-c91e-e77a4d8fc881",
        "colab": {
          "base_uri": "https://localhost:8080/"
        }
      },
      "source": [
        "cost_Price = int(input())\n",
        "selling_Price = int(input())\n",
        "\n",
        "if cost_Price > selling_Price:\n",
        "    print(\"Loss\")\n",
        "elif cost_Price < selling_Price:\n",
        "    print(\"Profit\")\n",
        "else:\n",
        "    print(\"Neither\")"
      ],
      "execution_count": 5,
      "outputs": [
        {
          "output_type": "stream",
          "text": [
            "15\n",
            "25\n",
            "Profit\n"
          ],
          "name": "stdout"
        }
      ]
    },
    {
      "cell_type": "markdown",
      "metadata": {
        "id": "UNjM4UwEZCtG"
      },
      "source": [
        "# ***Question 4:***"
      ]
    },
    {
      "cell_type": "code",
      "metadata": {
        "id": "_CTd-eonZEW8",
        "outputId": "4fe830ef-8748-42c9-9d62-756a672fea0d",
        "colab": {
          "base_uri": "https://localhost:8080/"
        }
      },
      "source": [
        "euros = int(input())\n",
        "rupees = euros * 80\n",
        "print(\"Rs.\",rupees)"
      ],
      "execution_count": 10,
      "outputs": [
        {
          "output_type": "stream",
          "text": [
            "20\n",
            "Rs. 1600\n"
          ],
          "name": "stdout"
        }
      ]
    }
  ]
}