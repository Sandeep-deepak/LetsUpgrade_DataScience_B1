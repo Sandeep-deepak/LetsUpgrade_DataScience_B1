{
  "nbformat": 4,
  "nbformat_minor": 0,
  "metadata": {
    "colab": {
      "name": "Day_2_Assignment.ipynb",
      "provenance": []
    },
    "kernelspec": {
      "name": "python3",
      "display_name": "Python 3"
    }
  },
  "cells": [
    {
      "cell_type": "markdown",
      "metadata": {
        "id": "-Ci4D_7deWWW"
      },
      "source": [
        "# ***Question 1:***"
      ]
    },
    {
      "cell_type": "code",
      "metadata": {
        "id": "ZPjwY-Fjeb2H",
        "outputId": "7278defb-04ad-4e4e-c53a-f8134fded0ff",
        "colab": {
          "base_uri": "https://localhost:8080/"
        }
      },
      "source": [
        "emptyList = []\n",
        "for i in range(10):\n",
        "  a = int(input())\n",
        "  if a%2 == 0:\n",
        "    emptyList.append(a)\n",
        "print(emptyList)"
      ],
      "execution_count": null,
      "outputs": [
        {
          "output_type": "stream",
          "text": [
            "22\n",
            "55\n",
            "7\n",
            "42\n",
            "65\n",
            "28\n",
            "32\n",
            "16\n",
            "71\n",
            "96\n",
            "[22, 42, 28, 32, 16, 96]\n"
          ],
          "name": "stdout"
        }
      ]
    },
    {
      "cell_type": "markdown",
      "metadata": {
        "id": "pnRLN4OAecqR"
      },
      "source": [
        "# ***Question 2:*** LIST COMPREHENSION"
      ]
    },
    {
      "cell_type": "code",
      "metadata": {
        "id": "y-zzdYw024GH",
        "outputId": "162e42cc-3e3c-46bf-bab3-0940ed02059a",
        "colab": {
          "base_uri": "https://localhost:8080/"
        }
      },
      "source": [
        "# List Indexing \n",
        "fruits = [\"Apple\",\"Mango\",\"Grapes\", [\"Banana\",\"Pomegranate\"],\"Orange\"] # Papaya, Guava, Watermelon\n",
        "print(fruits[2]) \n",
        "print(fruits[3][1])\n",
        "print(fruits[-1])\n",
        "print(fruits[-2][0])\n",
        "fruits[1] = \"Guava\" #Updating a value\n",
        "print(fruits)\n",
        "print(fruits[2:])\n",
        "print(fruits[1:3]) #[index : length]"
      ],
      "execution_count": null,
      "outputs": [
        {
          "output_type": "stream",
          "text": [
            "Grapes\n",
            "Pomegranate\n",
            "Orange\n",
            "Banana\n",
            "['Apple', 'Guava', 'Grapes', ['Banana', 'Pomegranate'], 'Orange']\n",
            "['Grapes', ['Banana', 'Pomegranate'], 'Orange']\n",
            "['Guava', 'Grapes']\n"
          ],
          "name": "stdout"
        }
      ]
    },
    {
      "cell_type": "code",
      "metadata": {
        "id": "jEC7cofu3Gf5",
        "outputId": "fb0049df-8d5e-4a10-af72-009cd16eeb5b",
        "colab": {
          "base_uri": "https://localhost:8080/"
        }
      },
      "source": [
        "# List Functions:\n",
        "a = [\"Hello\", \"World\", \"Hey\"]\n",
        "b = [1,2,3,7,9,6]\n",
        "print(max(a)) #max() \n",
        "print(max(b))\n",
        "print(min(a)) #min()\n",
        "print(min(b))\n",
        "print(len(b)) #len() gives length of the list\n",
        "aTuple = (123, 'xyz', 'Mera', 'abc')\n",
        "aList = list(aTuple) #Converts a tuple into list\n",
        "print(aList)\n",
        "num = list(range(10)) #range() starts from 0 to (length-1)\n",
        "print(num)"
      ],
      "execution_count": null,
      "outputs": [
        {
          "output_type": "stream",
          "text": [
            "World\n",
            "9\n",
            "Hello\n",
            "1\n",
            "6\n",
            "[123, 'xyz', 'Mera', 'abc']\n",
            "[0, 1, 2, 3, 4, 5, 6, 7, 8, 9]\n"
          ],
          "name": "stdout"
        }
      ]
    },
    {
      "cell_type": "code",
      "metadata": {
        "id": "GBle6obK3Kkb",
        "outputId": "cf160155-ccda-4127-f5bf-130ca6ee504f",
        "colab": {
          "base_uri": "https://localhost:8080/"
        }
      },
      "source": [
        "# List Methods:\n",
        "fruits.append(\"Blueberry\") #.append()\n",
        "print(fruits)\n",
        "fruits.remove(\"Grapes\") #.remove()\n",
        "print(fruits)\n",
        "print(fruits.index(\"Guava\")) #.index()\n",
        "fruits.insert(1,\"Kiwi\") #.insert()\n",
        "print(fruits)\n",
        "fruits.pop(3) #.pop()\n",
        "print(fruits)\n",
        "fruits.reverse() #.reverse()\n",
        "print(fruits)"
      ],
      "execution_count": null,
      "outputs": [
        {
          "output_type": "stream",
          "text": [
            "['Apple', 'Guava', 'Grapes', ['Banana', 'Pomegranate'], 'Orange', 'Blueberry']\n",
            "['Apple', 'Guava', ['Banana', 'Pomegranate'], 'Orange', 'Blueberry']\n",
            "1\n",
            "['Apple', 'Kiwi', 'Guava', ['Banana', 'Pomegranate'], 'Orange', 'Blueberry']\n",
            "['Apple', 'Kiwi', 'Guava', 'Orange', 'Blueberry']\n",
            "['Blueberry', 'Orange', 'Guava', 'Kiwi', 'Apple']\n"
          ],
          "name": "stdout"
        }
      ]
    },
    {
      "cell_type": "markdown",
      "metadata": {
        "id": "mlZVMb1e3O5i"
      },
      "source": [
        "List Comprehension : Solution of 2"
      ]
    },
    {
      "cell_type": "code",
      "metadata": {
        "id": "czzPlGRyeekS",
        "outputId": "21f8cd0a-2125-44a5-a27e-55d1faba4d75",
        "colab": {
          "base_uri": "https://localhost:8080/"
        }
      },
      "source": [
        "# Using for loop\n",
        "Squares = [x**2 for x in range(10)] # 0^2 1^2 2^2 3^2 etc..\n",
        "PowOfIndex = [2**i for i in range(13)] # 2^0 2^1 2^2 2^3 etc..\n",
        "print(Squares)\n",
        "print(PowOfIndex)"
      ],
      "execution_count": null,
      "outputs": [
        {
          "output_type": "stream",
          "text": [
            "[0, 1, 4, 9, 16, 25, 36, 49, 64, 81]\n",
            "[1, 2, 4, 8, 16, 32, 64, 128, 256, 512, 1024, 2048, 4096]\n"
          ],
          "name": "stdout"
        }
      ]
    },
    {
      "cell_type": "code",
      "metadata": {
        "id": "jGkOFW6wnY37",
        "outputId": "d7fc9b73-9320-4eeb-e20b-1f10ab598778",
        "colab": {
          "base_uri": "https://localhost:8080/"
        }
      },
      "source": [
        "# Squares of Even numbers in range of 10\n",
        "num = range(10) \n",
        "M = [x**2 for x in num if x % 2 == 0]\n",
        "print(M)"
      ],
      "execution_count": null,
      "outputs": [
        {
          "output_type": "stream",
          "text": [
            "[0, 4, 16, 36, 64]\n"
          ],
          "name": "stdout"
        }
      ]
    },
    {
      "cell_type": "markdown",
      "metadata": {
        "id": "UqljBTXqlUEE"
      },
      "source": [
        "List comprehension is a complete substitute to for loops, lambda function, map(), filter() and reduce()"
      ]
    },
    {
      "cell_type": "code",
      "metadata": {
        "id": "Drdp6jL1qcLA",
        "outputId": "37031261-3a28-45b2-84b6-da7e4dab94f8",
        "colab": {
          "base_uri": "https://localhost:8080/"
        }
      },
      "source": [
        "# Replace map() in Combination with Lambda Functions\n",
        "\n",
        "kilometer = [39.2, 36.5, 37.3, 37.8]\n",
        "\n",
        "# Construct `feet` with `map()`\n",
        "feet = map(lambda x: float(3280.8399)*x, kilometer)\n",
        "\n",
        "# Print `feet` as a list\n",
        "print(list(feet))\n",
        "\n",
        "# **Using List comprehension**\n",
        "\n",
        "# Convert `kilometer` to `feet`\n",
        "feet = [float(3280.8399)*x for x in kilometer]\n",
        "\n",
        "# Print `feet`\n",
        "print(feet)"
      ],
      "execution_count": null,
      "outputs": [
        {
          "output_type": "stream",
          "text": [
            "[128608.92408000001, 119750.65635, 122375.32826999998, 124015.74822]\n",
            "[128608.92408000001, 119750.65635, 122375.32826999998, 124015.74822]\n"
          ],
          "name": "stdout"
        }
      ]
    },
    {
      "cell_type": "code",
      "metadata": {
        "id": "Pd9_BVtHqxMz",
        "outputId": "fda9b5cf-9ebb-42a6-8009-41b1e2efdb8d",
        "colab": {
          "base_uri": "https://localhost:8080/"
        }
      },
      "source": [
        "# filter() and Lambda Functions to List Comprehensions\n",
        "\n",
        "# Map the values of `feet` to integers\n",
        "feet = list(map(int, feet))\n",
        "\n",
        "# Filter `feet` to only include uneven distances\n",
        "uneven = filter(lambda x: x%2, feet)\n",
        "\n",
        "# Check the type of `uneven`\n",
        "print(type(uneven))\n",
        "\n",
        "# Print `uneven` as a list\n",
        "print(list(uneven))\n",
        "\n",
        "# **Using List comprehension**\n",
        "\n",
        "# Constructing `feet`\n",
        "feet = [int(x) for x in feet]\n",
        "\n",
        "# Print `feet`\n",
        "print(feet)\n",
        "\n",
        "# Get all uneven distances\n",
        "uneven = [x for x in feet if x%2!= 0]\n",
        "\n",
        "# Print `uneven`\n",
        "print(uneven)"
      ],
      "execution_count": null,
      "outputs": [
        {
          "output_type": "stream",
          "text": [
            "<class 'filter'>\n",
            "[122375, 124015]\n",
            "[128608, 119750, 122375, 124015]\n",
            "[122375, 124015]\n"
          ],
          "name": "stdout"
        }
      ]
    },
    {
      "cell_type": "code",
      "metadata": {
        "id": "12jtSKmasvV6",
        "outputId": "1cd8e64b-4acc-425c-83ae-b301e1c9f2fd",
        "colab": {
          "base_uri": "https://localhost:8080/"
        }
      },
      "source": [
        "# Combination of for loop and if else condition\n",
        "A = range(0,20)\n",
        "for x in A:  \n",
        "    if x >= 10:\n",
        "        print(x + 1, end=\" \")\n",
        "        print(\"\\n\")\n",
        "    else:\n",
        "        print(x + 5, end=\" \")\n",
        "print(\"\\n\")\n",
        "# Using List comprehension\n",
        "J = [x+1 if x >= 10 else x+5 for x in A]\n",
        "print(J)"
      ],
      "execution_count": null,
      "outputs": [
        {
          "output_type": "stream",
          "text": [
            "5 6 7 8 9 10 11 12 13 14 11 \n",
            "\n",
            "12 \n",
            "\n",
            "13 \n",
            "\n",
            "14 \n",
            "\n",
            "15 \n",
            "\n",
            "16 \n",
            "\n",
            "17 \n",
            "\n",
            "18 \n",
            "\n",
            "19 \n",
            "\n",
            "20 \n",
            "\n",
            "\n",
            "\n",
            "[5, 6, 7, 8, 9, 10, 11, 12, 13, 14, 11, 12, 13, 14, 15, 16, 17, 18, 19, 20]\n"
          ],
          "name": "stdout"
        }
      ]
    },
    {
      "cell_type": "markdown",
      "metadata": {
        "id": "zf7QUfDqehSQ"
      },
      "source": [
        "# ***Question 3:***"
      ]
    },
    {
      "cell_type": "code",
      "metadata": {
        "id": "xa_RBQteekLg",
        "outputId": "176ff1a9-e4df-45c8-b361-ab8b91d59c13",
        "colab": {
          "base_uri": "https://localhost:8080/"
        }
      },
      "source": [
        "# Dictionary\n",
        "person = {\"name\":\"Sandeep\", \"age\":24, \"fav_Color\": ['blue', 'black']}\n",
        "\n",
        "print(person)\n",
        "print(person['name']) #accesimg value on key\n",
        "person['age'] = 25 # upating value\n",
        "print(person)\n",
        "person['fav_fruit'] = 'Apple' # add item at last\n",
        "print(person)\n",
        "\n",
        "# Dictionary Functions:\n",
        "print(\"\\n**Dictionary Functions:**\")\n",
        "person.pop('fav_Color') # removes particular item\n",
        "print(person)\n",
        "print(person.get(\"age\")) # same as index\n",
        "print(person.get(\"color\")) # Accessing unknown value will return \"None\" instead of Error\n",
        "print(person.keys()) # return all keys in  dictionary\n",
        "print(person.values()) # return all values in dictionary\n",
        "print(person.items()) # return all key:value pairs in dictionary\n",
        "person.update({\"Gender\": \"Male\"}) # adds an item at last of dictionary\n",
        "print(person)\n",
        "person1= person.copy() # copies the dictionary in person to another variable person1\n",
        "person.clear() # clears the dictionary in person variable\n",
        "print(person)\n",
        "print(person1)"
      ],
      "execution_count": null,
      "outputs": [
        {
          "output_type": "stream",
          "text": [
            "{'name': 'Sandeep', 'age': 24, 'fav_Color': ['blue', 'black']}\n",
            "Sandeep\n",
            "{'name': 'Sandeep', 'age': 25, 'fav_Color': ['blue', 'black']}\n",
            "{'name': 'Sandeep', 'age': 25, 'fav_Color': ['blue', 'black'], 'fav_fruit': 'Apple'}\n",
            "\n",
            "**Dictionary Functions:**\n",
            "{'name': 'Sandeep', 'age': 25, 'fav_fruit': 'Apple'}\n",
            "25\n",
            "None\n",
            "dict_keys(['name', 'age', 'fav_fruit'])\n",
            "dict_values(['Sandeep', 25, 'Apple'])\n",
            "dict_items([('name', 'Sandeep'), ('age', 25), ('fav_fruit', 'Apple')])\n",
            "{'name': 'Sandeep', 'age': 25, 'fav_fruit': 'Apple', 'Gender': 'Male'}\n",
            "{}\n",
            "{'name': 'Sandeep', 'age': 25, 'fav_fruit': 'Apple', 'Gender': 'Male'}\n"
          ],
          "name": "stdout"
        }
      ]
    },
    {
      "cell_type": "code",
      "metadata": {
        "id": "KcCAHV9l5bgI",
        "outputId": "7f8fe8c4-274e-4650-8ef8-25a4071d717a",
        "colab": {
          "base_uri": "https://localhost:8080/"
        }
      },
      "source": [
        "# Solution of 3\n",
        "\n",
        "num = int(input())+1\n",
        "d = {}\n",
        "for i in range(1,num):\n",
        "  d.update({i:i*i})\n",
        "print(d)"
      ],
      "execution_count": null,
      "outputs": [
        {
          "output_type": "stream",
          "text": [
            "8\n",
            "{1: 1, 2: 4, 3: 9, 4: 16, 5: 25, 6: 36, 7: 49, 8: 64}\n"
          ],
          "name": "stdout"
        }
      ]
    },
    {
      "cell_type": "markdown",
      "metadata": {
        "id": "yh9x9jjQekr3"
      },
      "source": [
        "# ***Question 4:***\n",
        "There is a robot which wants to go the charging point to charge itself. \n",
        "The robot moves in a 2-D plane from the original point (0,0). The robot can \n",
        "move toward UP, DOWN, LEFT and RIGHT with given steps.  \n",
        "The trace of robot movement is shown as the following: UP 5 DOWN 3 LEFT 3 RIGHT 2  \n",
        "Then, the output of the program should be: 2  \n",
        "The numbers after the direction are steps.  \n",
        "Write a program to compute the distance between the current position after \n",
        "a sequence of movement and original point. If the distance is a float, then \n",
        "just print the nearest integer (use round() function for that and then convert \n",
        "it into an integer).  \n",
        "*Input Format:  \n",
        "The first line of the input contains a number n which implies the number of \n",
        "directions to be given.  \n",
        "The next n lines contain the direction and the step separated by a space.  \n",
        "*Output Format:  \n",
        "Print the distance from the original position to the current position.  \n",
        "Example: \n",
        "*Input: 4  \n",
        "UP 5  \n",
        "DOWN 3  \n",
        "LEFT 3  \n",
        "RIGHT 2  \n",
        "*Output:\n",
        "2 "
      ]
    },
    {
      "cell_type": "code",
      "metadata": {
        "id": "jA3_58NkCWzB",
        "outputId": "f5f965f0-4ed8-4f2f-82b8-6216517fcfa9",
        "colab": {
          "base_uri": "https://localhost:8080/"
        }
      },
      "source": [
        "import math as m\n",
        "position = {\"x\":0, \"y\":0}\n",
        "\n",
        "num_Directions = int(input())\n",
        "for i in range(num_Directions):\n",
        "\n",
        "  inpValue = input() # default String\n",
        "  if not inpValue:\n",
        "    break\n",
        "\n",
        "  direction, steps = inpValue.split() # input(Direction Steps)\n",
        "\n",
        "  if direction == \"UP\":\n",
        "    position[\"y\"] += int(steps) # Converting Str to int\n",
        "  elif direction == \"DOWN\":\n",
        "    position[\"y\"] -= int(steps)\n",
        "  elif direction == \"LEFT\":\n",
        "    position[\"x\"] -= int(steps)\n",
        "  elif direction == \"RIGHT\":\n",
        "    position[\"x\"] += int(steps)\n",
        "\n",
        "result = int(round(m.sqrt(position[\"x\"]**2 + position[\"y\"]**2))) # formulae Sqrt(x^2 + y^2)\n",
        "print(result)"
      ],
      "execution_count": 15,
      "outputs": [
        {
          "output_type": "stream",
          "text": [
            "4\n",
            "UP 5\n",
            "DOWN 3\n",
            "LEFT 3\n",
            "RIGHT 2\n",
            "2\n"
          ],
          "name": "stdout"
        }
      ]
    }
  ]
}