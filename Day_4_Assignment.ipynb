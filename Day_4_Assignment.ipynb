{
  "nbformat": 4,
  "nbformat_minor": 0,
  "metadata": {
    "colab": {
      "name": "Day_4_Assignment.ipynb",
      "provenance": [],
      "collapsed_sections": []
    },
    "kernelspec": {
      "name": "python3",
      "display_name": "Python 3"
    }
  },
  "cells": [
    {
      "cell_type": "markdown",
      "metadata": {
        "id": "-Ci4D_7deWWW"
      },
      "source": [
        "# ***Question 1:***\n",
        "How to import pandas and check the version?\n",
        "\n"
      ]
    },
    {
      "cell_type": "code",
      "metadata": {
        "id": "2dg1IvXy4KhO",
        "outputId": "79e35bda-db24-48cd-920a-72cfe48c5809",
        "colab": {
          "base_uri": "https://localhost:8080/"
        }
      },
      "source": [
        "# importing pandas\n",
        "import pandas as pd\n",
        "print(pd.__version__)"
      ],
      "execution_count": 63,
      "outputs": [
        {
          "output_type": "stream",
          "text": [
            "1.1.4\n"
          ],
          "name": "stdout"
        }
      ]
    },
    {
      "cell_type": "markdown",
      "metadata": {
        "id": "pnRLN4OAecqR"
      },
      "source": [
        "# ***Questions 2:***\n",
        "How to create a series from a numpy array? "
      ]
    },
    {
      "cell_type": "code",
      "metadata": {
        "id": "Vi7OccJ54LBw",
        "outputId": "5756c45f-3f5f-4d7e-c57e-19d30126d3b6",
        "colab": {
          "base_uri": "https://localhost:8080/"
        }
      },
      "source": [
        "# importing numpy\n",
        "import numpy as np\n",
        "arr = np.array([10, 20, 30, 40, 50, 60, 70, 80, 90])\n",
        "print(\"Array of numpy:\\n\",arr)\n",
        "\n",
        "# Converting numpy array to pandas Series\n",
        "series = pd.Series(arr)\n",
        "print(\"Series of pandas\\n\",series)"
      ],
      "execution_count": 62,
      "outputs": [
        {
          "output_type": "stream",
          "text": [
            "Array of numpy:\n",
            " [10 20 30 40 50 60 70 80 90]\n",
            "Series of pandas\n",
            " 0    10\n",
            "1    20\n",
            "2    30\n",
            "3    40\n",
            "4    50\n",
            "5    60\n",
            "6    70\n",
            "7    80\n",
            "8    90\n",
            "dtype: int64\n"
          ],
          "name": "stdout"
        }
      ]
    },
    {
      "cell_type": "markdown",
      "metadata": {
        "id": "zf7QUfDqehSQ"
      },
      "source": [
        "# ***Questions 3:***\n",
        " How to convert the index of a series into a column of a dataframe? "
      ]
    },
    {
      "cell_type": "code",
      "metadata": {
        "id": "pnKtsb9m4Lhy",
        "outputId": "d7a9178f-af21-4533-ef30-3e4f19546268",
        "colab": {
          "base_uri": "https://localhost:8080/"
        }
      },
      "source": [
        "# Creating series with user index value\n",
        "series1 = pd.Series([10, 20, 30, 40, 50, 60, 70, 40, 50, 60, 70, 80, 90, 100], \n",
        "                    index = [1, 2, 3, 4, 5, 6, 7, 8, 9, 10, 11, 12, 13, 14])\n",
        "# print(\"Series of pandas\",series1)\n",
        "\n",
        "# Converting series to dataframe\n",
        "dataFrame = series1.to_frame().reset_index()\n",
        "print(dataFrame)"
      ],
      "execution_count": 61,
      "outputs": [
        {
          "output_type": "stream",
          "text": [
            "    index    0\n",
            "0       1   10\n",
            "1       2   20\n",
            "2       3   30\n",
            "3       4   40\n",
            "4       5   50\n",
            "5       6   60\n",
            "6       7   70\n",
            "7       8   40\n",
            "8       9   50\n",
            "9      10   60\n",
            "10     11   70\n",
            "11     12   80\n",
            "12     13   90\n",
            "13     14  100\n"
          ],
          "name": "stdout"
        }
      ]
    },
    {
      "cell_type": "markdown",
      "metadata": {
        "id": "yh9x9jjQekr3"
      },
      "source": [
        "# ***Questions 4:***\n",
        "Write the code to list all the datasets available in seaborn library.  \n",
        "Load the 'mpg' dataset  \n",
        "Note: mpg dataset will be read from seaborn module in the manner sir has already shown(provided in the \n",
        "materials folder) "
      ]
    },
    {
      "cell_type": "code",
      "metadata": {
        "id": "xa9bA69v4MEg",
        "outputId": "67a09f53-a42c-42d8-d4c0-ee45dc7abf83",
        "colab": {
          "base_uri": "https://localhost:8080/"
        }
      },
      "source": [
        "# importing seaborn\n",
        "import seaborn as sns\n",
        "# print(sns.__version__)\n",
        "\n",
        "# List of all dataset in seaborn module\n",
        "print(\"All dataset present in the seaborn library :\\n\", sb.get_dataset_names()) \n",
        "print()\n",
        "\n",
        "# Loading mpg dataset from seaborn\n",
        "dataset_mpg = sns.load_dataset('mpg')\n",
        "\n",
        "print(\"mpg dataset from seaborn :\\n\", dataset_mpg)"
      ],
      "execution_count": 60,
      "outputs": [
        {
          "output_type": "stream",
          "text": [
            "All dataset present in the seaborn library :\n",
            " ['anagrams', 'anscombe', 'attention', 'brain_networks', 'car_crashes', 'diamonds', 'dots', 'exercise', 'flights', 'fmri', 'gammas', 'geyser', 'iris', 'mpg', 'penguins', 'planets', 'tips', 'titanic']\n",
            "\n",
            "mpg dataset from seaborn :\n",
            "       mpg  cylinders  ...  origin                       name\n",
            "0    18.0          8  ...     usa  chevrolet chevelle malibu\n",
            "1    15.0          8  ...     usa          buick skylark 320\n",
            "2    18.0          8  ...     usa         plymouth satellite\n",
            "3    16.0          8  ...     usa              amc rebel sst\n",
            "4    17.0          8  ...     usa                ford torino\n",
            "..    ...        ...  ...     ...                        ...\n",
            "393  27.0          4  ...     usa            ford mustang gl\n",
            "394  44.0          4  ...  europe                  vw pickup\n",
            "395  32.0          4  ...     usa              dodge rampage\n",
            "396  28.0          4  ...     usa                ford ranger\n",
            "397  31.0          4  ...     usa                 chevy s-10\n",
            "\n",
            "[398 rows x 9 columns]\n"
          ],
          "name": "stdout"
        }
      ]
    },
    {
      "cell_type": "markdown",
      "metadata": {
        "id": "nYzepbptnqwU"
      },
      "source": [
        "# ***Questions 5:*** \n",
        "Which country origin cars are a part of this dataset? "
      ]
    },
    {
      "cell_type": "code",
      "metadata": {
        "id": "QZi1-TZB4Mq-",
        "outputId": "7ce6938e-d8d6-4914-9b5d-7802ac226d1b",
        "colab": {
          "base_uri": "https://localhost:8080/"
        }
      },
      "source": [
        "# Loading mpg dataset from seaborn\n",
        "mpg_dataset = sns.load_dataset('mpg')\n",
        "\n",
        "# Creating a dataframe for mpg_dataset\n",
        "df = pd.DataFrame(mpg_dataset)\n",
        "# print(df)\n",
        "\n",
        "# Displaying the country origin from where cars belong\n",
        "print(\"country origin :\\n\", df.origin.unique())"
      ],
      "execution_count": 59,
      "outputs": [
        {
          "output_type": "stream",
          "text": [
            "country origin :\n",
            " ['usa' 'japan' 'europe']\n"
          ],
          "name": "stdout"
        }
      ]
    },
    {
      "cell_type": "markdown",
      "metadata": {
        "id": "kThLvT4Ln3N_"
      },
      "source": [
        "# ***Questions 6:*** \n",
        "Extract the part of the dataframe which contains cars belonging to 'usa'"
      ]
    },
    {
      "cell_type": "code",
      "metadata": {
        "id": "GG16gFtj4NWV",
        "outputId": "377e38e8-e1aa-4345-9523-44c5f2305e61",
        "colab": {
          "base_uri": "https://localhost:8080/",
          "height": 419
        }
      },
      "source": [
        "# Loading mpg dataset from seaborn\n",
        "mpgDataset = sns.load_dataset('mpg')\n",
        "\n",
        "# Creating a dataframe for mpg_dataset\n",
        "df = pd.DataFrame(mpgDataset)\n",
        "# print(df)\n",
        "\n",
        "# Displaying the part from dataframe where cars belong to \"usa\"\n",
        "df[df['origin'].str.contains(\"usa\")]"
      ],
      "execution_count": 58,
      "outputs": [
        {
          "output_type": "execute_result",
          "data": {
            "text/html": [
              "<div>\n",
              "<style scoped>\n",
              "    .dataframe tbody tr th:only-of-type {\n",
              "        vertical-align: middle;\n",
              "    }\n",
              "\n",
              "    .dataframe tbody tr th {\n",
              "        vertical-align: top;\n",
              "    }\n",
              "\n",
              "    .dataframe thead th {\n",
              "        text-align: right;\n",
              "    }\n",
              "</style>\n",
              "<table border=\"1\" class=\"dataframe\">\n",
              "  <thead>\n",
              "    <tr style=\"text-align: right;\">\n",
              "      <th></th>\n",
              "      <th>mpg</th>\n",
              "      <th>cylinders</th>\n",
              "      <th>displacement</th>\n",
              "      <th>horsepower</th>\n",
              "      <th>weight</th>\n",
              "      <th>acceleration</th>\n",
              "      <th>model_year</th>\n",
              "      <th>origin</th>\n",
              "      <th>name</th>\n",
              "    </tr>\n",
              "  </thead>\n",
              "  <tbody>\n",
              "    <tr>\n",
              "      <th>0</th>\n",
              "      <td>18.0</td>\n",
              "      <td>8</td>\n",
              "      <td>307.0</td>\n",
              "      <td>130.0</td>\n",
              "      <td>3504</td>\n",
              "      <td>12.0</td>\n",
              "      <td>70</td>\n",
              "      <td>usa</td>\n",
              "      <td>chevrolet chevelle malibu</td>\n",
              "    </tr>\n",
              "    <tr>\n",
              "      <th>1</th>\n",
              "      <td>15.0</td>\n",
              "      <td>8</td>\n",
              "      <td>350.0</td>\n",
              "      <td>165.0</td>\n",
              "      <td>3693</td>\n",
              "      <td>11.5</td>\n",
              "      <td>70</td>\n",
              "      <td>usa</td>\n",
              "      <td>buick skylark 320</td>\n",
              "    </tr>\n",
              "    <tr>\n",
              "      <th>2</th>\n",
              "      <td>18.0</td>\n",
              "      <td>8</td>\n",
              "      <td>318.0</td>\n",
              "      <td>150.0</td>\n",
              "      <td>3436</td>\n",
              "      <td>11.0</td>\n",
              "      <td>70</td>\n",
              "      <td>usa</td>\n",
              "      <td>plymouth satellite</td>\n",
              "    </tr>\n",
              "    <tr>\n",
              "      <th>3</th>\n",
              "      <td>16.0</td>\n",
              "      <td>8</td>\n",
              "      <td>304.0</td>\n",
              "      <td>150.0</td>\n",
              "      <td>3433</td>\n",
              "      <td>12.0</td>\n",
              "      <td>70</td>\n",
              "      <td>usa</td>\n",
              "      <td>amc rebel sst</td>\n",
              "    </tr>\n",
              "    <tr>\n",
              "      <th>4</th>\n",
              "      <td>17.0</td>\n",
              "      <td>8</td>\n",
              "      <td>302.0</td>\n",
              "      <td>140.0</td>\n",
              "      <td>3449</td>\n",
              "      <td>10.5</td>\n",
              "      <td>70</td>\n",
              "      <td>usa</td>\n",
              "      <td>ford torino</td>\n",
              "    </tr>\n",
              "    <tr>\n",
              "      <th>...</th>\n",
              "      <td>...</td>\n",
              "      <td>...</td>\n",
              "      <td>...</td>\n",
              "      <td>...</td>\n",
              "      <td>...</td>\n",
              "      <td>...</td>\n",
              "      <td>...</td>\n",
              "      <td>...</td>\n",
              "      <td>...</td>\n",
              "    </tr>\n",
              "    <tr>\n",
              "      <th>392</th>\n",
              "      <td>27.0</td>\n",
              "      <td>4</td>\n",
              "      <td>151.0</td>\n",
              "      <td>90.0</td>\n",
              "      <td>2950</td>\n",
              "      <td>17.3</td>\n",
              "      <td>82</td>\n",
              "      <td>usa</td>\n",
              "      <td>chevrolet camaro</td>\n",
              "    </tr>\n",
              "    <tr>\n",
              "      <th>393</th>\n",
              "      <td>27.0</td>\n",
              "      <td>4</td>\n",
              "      <td>140.0</td>\n",
              "      <td>86.0</td>\n",
              "      <td>2790</td>\n",
              "      <td>15.6</td>\n",
              "      <td>82</td>\n",
              "      <td>usa</td>\n",
              "      <td>ford mustang gl</td>\n",
              "    </tr>\n",
              "    <tr>\n",
              "      <th>395</th>\n",
              "      <td>32.0</td>\n",
              "      <td>4</td>\n",
              "      <td>135.0</td>\n",
              "      <td>84.0</td>\n",
              "      <td>2295</td>\n",
              "      <td>11.6</td>\n",
              "      <td>82</td>\n",
              "      <td>usa</td>\n",
              "      <td>dodge rampage</td>\n",
              "    </tr>\n",
              "    <tr>\n",
              "      <th>396</th>\n",
              "      <td>28.0</td>\n",
              "      <td>4</td>\n",
              "      <td>120.0</td>\n",
              "      <td>79.0</td>\n",
              "      <td>2625</td>\n",
              "      <td>18.6</td>\n",
              "      <td>82</td>\n",
              "      <td>usa</td>\n",
              "      <td>ford ranger</td>\n",
              "    </tr>\n",
              "    <tr>\n",
              "      <th>397</th>\n",
              "      <td>31.0</td>\n",
              "      <td>4</td>\n",
              "      <td>119.0</td>\n",
              "      <td>82.0</td>\n",
              "      <td>2720</td>\n",
              "      <td>19.4</td>\n",
              "      <td>82</td>\n",
              "      <td>usa</td>\n",
              "      <td>chevy s-10</td>\n",
              "    </tr>\n",
              "  </tbody>\n",
              "</table>\n",
              "<p>249 rows × 9 columns</p>\n",
              "</div>"
            ],
            "text/plain": [
              "      mpg  cylinders  ...  origin                       name\n",
              "0    18.0          8  ...     usa  chevrolet chevelle malibu\n",
              "1    15.0          8  ...     usa          buick skylark 320\n",
              "2    18.0          8  ...     usa         plymouth satellite\n",
              "3    16.0          8  ...     usa              amc rebel sst\n",
              "4    17.0          8  ...     usa                ford torino\n",
              "..    ...        ...  ...     ...                        ...\n",
              "392  27.0          4  ...     usa           chevrolet camaro\n",
              "393  27.0          4  ...     usa            ford mustang gl\n",
              "395  32.0          4  ...     usa              dodge rampage\n",
              "396  28.0          4  ...     usa                ford ranger\n",
              "397  31.0          4  ...     usa                 chevy s-10\n",
              "\n",
              "[249 rows x 9 columns]"
            ]
          },
          "metadata": {
            "tags": []
          },
          "execution_count": 58
        }
      ]
    }
  ]
}